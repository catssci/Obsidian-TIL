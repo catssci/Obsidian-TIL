{
 "cells": [
  {
   "cell_type": "code",
   "execution_count": 1,
   "metadata": {},
   "outputs": [],
   "source": [
    "from dotenv import load_dotenv\n",
    "import os\n",
    "\n",
    "import pandas as pd"
   ]
  },
  {
   "cell_type": "code",
   "execution_count": 2,
   "metadata": {},
   "outputs": [],
   "source": [
    "# .env 파일 활성화\n",
    "load_dotenv()\n",
    "\n",
    "SERVICE_KEY = os.getenv('SERVICE_KEY')\n",
    "PUBLIC_SERVICE_KEY = os.getenv('PUBLIC_SERVICE_KEY')"
   ]
  },
  {
   "cell_type": "code",
   "execution_count": 3,
   "metadata": {},
   "outputs": [
    {
     "name": "stdout",
     "output_type": "stream",
     "text": [
      "test test public\n"
     ]
    }
   ],
   "source": [
    "print(SERVICE_KEY, PUBLIC_SERVICE_KEY)"
   ]
  },
  {
   "cell_type": "markdown",
   "metadata": {},
   "source": [
    "### Test Data\n",
    "- 무신사 데이터 사용"
   ]
  },
  {
   "cell_type": "code",
   "execution_count": 4,
   "metadata": {},
   "outputs": [],
   "source": [
    "recent_goods = {'goodsnm': '시티보이 빅 오버핏 빅사이즈 옥스포드 셔츠 4 COLOR',\n",
    "                'goodsprc': 45900,\n",
    "                'brand': '언탭트 스튜디오',\n",
    "                'gender': '남',\n",
    "                'season': '2024 FW'}\n",
    "recommend_resuts = [\n",
    "    {\n",
    "        'goodsnm': '시티보이 빅 오버핏 그라데이션 타탄 체크 셔츠 딥블루',\n",
    "        'goodsprc': 49957,\n",
    "        'brand': '언탭트 스튜디오',\n",
    "        'gender': '남',\n",
    "        'season': '2024 FW'\n",
    "    },\n",
    "    {\n",
    "        'goodsnm': '[SET]시티보이 빅오버핏 워시드 데님 셔츠 4Color',\n",
    "        'goodsprc': 85336,\n",
    "        'brand': '언탭트 스튜디오',\n",
    "        'gender': '남',\n",
    "        'season': '2025 ALL'\n",
    "    },\n",
    "    {\n",
    "        'goodsnm': 'YKK 이지 세미와이드 슬랙스 3Color',\n",
    "        'goodsprc': 46326,\n",
    "        'brand': '언탭트 스튜디오',\n",
    "        'gender': '남',\n",
    "        'season': '2025 ALL'\n",
    "    },\n",
    "    {\n",
    "        'goodsnm': 'KEYTH 핸드 크림 앳 허 아파트먼트 [GIFT 증정]',\n",
    "        'goodsprc': 35000,\n",
    "        'brand': '키스',\n",
    "        'gender': '여'\n",
    "    },\n",
    "    {\n",
    "        'goodsnm': '여성 클래식 데일리 백팩_WO1WCAA401',\n",
    "        'goodsprc': 79900,\n",
    "        'brand': '웨스트우드',\n",
    "        'gender': '여'\n",
    "    }\n",
    "]"
   ]
  },
  {
   "cell_type": "markdown",
   "metadata": {},
   "source": [
    "### gemini 모델 테스트"
   ]
  },
  {
   "cell_type": "code",
   "execution_count": 5,
   "metadata": {},
   "outputs": [],
   "source": [
    "import vertexai\n",
    "from vertexai.generative_models import GenerativeModel\n",
    "\n",
    "## Gemini\n",
    "# GCP 프로젝트 ID\n",
    "project_id = os.getenv('project_id')\n",
    "location = os.getenv('location')\n",
    "\n",
    "# Vertex AI multimodal model initialize\n",
    "vertexai.init(project=project_id, location=location)\n",
    "model_gemini = GenerativeModel(\"gemini-1.5-flash-002\")"
   ]
  },
  {
   "cell_type": "code",
   "execution_count": 6,
   "metadata": {},
   "outputs": [],
   "source": [
    "prompt = f\"\"\"\n",
    "목적: 추천결과를 평가하는 역할\n",
    "데이터 형태:  \n",
    "  - recent_goods: 최근 본 상품\n",
    "  - result: 검색 추천 결과\n",
    "\n",
    "평가 순서\n",
    "1. 최근 본 상품과 추천 결과의 연관성 분류\n",
    "  - 연관성은 0과 10 사이의 값으로 구분한다.\n",
    "  - 높을수록 연관성이 높다.\n",
    "2. 연관성 분류 이유 설명\n",
    "\n",
    "형식은 json 포맷으로 해줘.\n",
    "\n",
    "recent_goods: {recent_goods},\n",
    "\n",
    "result: {recommend_resuts}\n",
    "\"\"\""
   ]
  },
  {
   "cell_type": "code",
   "execution_count": 7,
   "metadata": {},
   "outputs": [],
   "source": [
    "responses = model_gemini.generate_content(\n",
    "    prompt,\n",
    "    generation_config={\n",
    "        \"temperature\": 0.2,\n",
    "        \"top_p\": 0.9,\n",
    "    }\n",
    ")"
   ]
  },
  {
   "cell_type": "code",
   "execution_count": 8,
   "metadata": {},
   "outputs": [
    {
     "name": "stdout",
     "output_type": "stream",
     "text": [
      "```json\n",
      "{\n",
      "  \"evaluation\": {\n",
      "    \"recent_goods\": {\n",
      "      \"goodsnm\": \"시티보이 빅 오버핏 빅사이즈 옥스포드 셔츠 4 COLOR\",\n",
      "      \"goodsprc\": 45900,\n",
      "      \"brand\": \"언탭트 스튜디오\",\n",
      "      \"gender\": \"남\",\n",
      "      \"season\": \"2024 FW\"\n",
      "    },\n",
      "    \"results\": [\n",
      "      {\n",
      "        \"goodsnm\": \"시티보이 빅 오버핏 그라데이션 타탄 체크 셔츠 딥블루\",\n",
      "        \"goodsprc\": 49957,\n",
      "        \"brand\": \"언탭트 스튜디오\",\n",
      "        \"gender\": \"남\",\n",
      "        \"season\": \"2024 FW\",\n",
      "        \"relevance\": 9,\n",
      "        \"reason\": \"브랜드, 성별, 시즌이 동일하고, 상품명에 '시티보이 빅 오버핏 셔츠'라는 공통 키워드가 포함되어 있습니다.  디자인이 다르지만 같은 스타일의 셔츠이므로 높은 연관성을 가집니다.\"\n",
      "      },\n",
      "      {\n",
      "        \"goodsnm\": \"[SET]시티보이 빅오버핏 워시드 데님 셔츠 4Color\",\n",
      "        \"goodsprc\": 85336,\n",
      "        \"brand\": \"언탭트 스튜디오\",\n",
      "        \"gender\": \"남\",\n",
      "        \"season\": \"2025 ALL\",\n",
      "        \"relevance\": 7,\n",
      "        \"reason\": \"브랜드와 성별이 동일하고, 상품명에 '시티보이 빅오버핏 셔츠'라는 공통 키워드가 포함되어 있습니다. 시즌은 다르지만,  같은 스타일의 셔츠이므로 높은 연관성을 가집니다. 세트 상품이라는 점은 약간의 차이를 만듭니다.\"\n",
      "      },\n",
      "      {\n",
      "        \"goodsnm\": \"YKK 이지 세미와이드 슬랙스 3Color\",\n",
      "        \"goodsprc\": 46326,\n",
      "        \"brand\": \"언탭트 스튜디오\",\n",
      "        \"gender\": \"남\",\n",
      "        \"season\": \"2025 ALL\",\n",
      "        \"relevance\": 3,\n",
      "        \"reason\": \"브랜드와 성별은 동일하지만, 상품 종류(셔츠 vs 슬랙스)가 다르고 시즌도 다릅니다. 같은 브랜드의 남성 의류라는 점만 공통점으로 가지고 있습니다.\"\n",
      "      },\n",
      "      {\n",
      "        \"goodsnm\": \"KEYTH 핸드 크림 앳 허 아파트먼트 [GIFT 증정]\",\n",
      "        \"goodsprc\": 35000,\n",
      "        \"brand\": \"키스\",\n",
      "        \"gender\": \"여\",\n",
      "        \"season\": null,\n",
      "        \"relevance\": 1,\n",
      "        \"reason\": \"브랜드, 성별, 상품 종류가 모두 다릅니다.  연관성이 거의 없습니다.\"\n",
      "      },\n",
      "      {\n",
      "        \"goodsnm\": \"여성 클래식 데일리 백팩_WO1WCAA401\",\n",
      "        \"goodsprc\": 79900,\n",
      "        \"brand\": \"웨스트우드\",\n",
      "        \"gender\": \"여\",\n",
      "        \"season\": null,\n",
      "        \"relevance\": 1,\n",
      "        \"reason\": \"브랜드, 성별, 상품 종류가 모두 다릅니다. 연관성이 거의 없습니다.\"\n",
      "      }\n",
      "    ]\n",
      "  }\n",
      "}\n",
      "```\n",
      "\n"
     ]
    }
   ],
   "source": [
    "print(responses.text)"
   ]
  },
  {
   "cell_type": "code",
   "execution_count": null,
   "metadata": {},
   "outputs": [],
   "source": []
  }
 ],
 "metadata": {
  "kernelspec": {
   "display_name": "project",
   "language": "python",
   "name": "python3"
  },
  "language_info": {
   "codemirror_mode": {
    "name": "ipython",
    "version": 3
   },
   "file_extension": ".py",
   "mimetype": "text/x-python",
   "name": "python",
   "nbconvert_exporter": "python",
   "pygments_lexer": "ipython3",
   "version": "3.11.0"
  }
 },
 "nbformat": 4,
 "nbformat_minor": 2
}
