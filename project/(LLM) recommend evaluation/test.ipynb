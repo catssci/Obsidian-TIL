{
 "cells": [
  {
   "cell_type": "code",
   "execution_count": 3,
   "metadata": {},
   "outputs": [],
   "source": [
    "from dotenv import load_dotenv\n",
    "import os\n",
    "\n",
    "import pandas as pd"
   ]
  },
  {
   "cell_type": "code",
   "execution_count": 4,
   "metadata": {},
   "outputs": [],
   "source": [
    "# .env 파일 활성화\n",
    "load_dotenv()\n",
    "\n",
    "SERVICE_KEY = os.getenv('SERVICE_KEY')\n",
    "PUBLIC_SERVICE_KEY = os.getenv('PUBLIC_SERVICE_KEY')"
   ]
  },
  {
   "cell_type": "code",
   "execution_count": 5,
   "metadata": {},
   "outputs": [
    {
     "name": "stdout",
     "output_type": "stream",
     "text": [
      "test test public\n"
     ]
    }
   ],
   "source": [
    "print(SERVICE_KEY, PUBLIC_SERVICE_KEY)"
   ]
  },
  {
   "cell_type": "markdown",
   "metadata": {},
   "source": [
    "### Test Data\n",
    "- 무신사 데이터 사용"
   ]
  },
  {
   "cell_type": "code",
   "execution_count": 7,
   "metadata": {},
   "outputs": [],
   "source": [
    "recent_goods = {'goodsnm': '시티보이 빅 오버핏 빅사이즈 옥스포드 셔츠 4 COLOR',\n",
    "                'goodsprc': 45900,\n",
    "                'brand': '언탭트 스튜디오',\n",
    "                'gender': '남',\n",
    "                'season': '2024 FW'}\n",
    "recommend_resuts = [\n",
    "    {\n",
    "        'goodsnm': '시티보이 빅 오버핏 그라데이션 타탄 체크 셔츠 딥블루',\n",
    "        'goodsprc': 49957,\n",
    "        'brand': '언탭트 스튜디오',\n",
    "        'gender': '남',\n",
    "        'season': '2024 FW'\n",
    "    },\n",
    "    {\n",
    "        'goodsnm': '[SET]시티보이 빅오버핏 워시드 데님 셔츠 4Color',\n",
    "        'goodsprc': 85336,\n",
    "        'brand': '언탭트 스튜디오',\n",
    "        'gender': '남',\n",
    "        'season': '2025 ALL'\n",
    "    },\n",
    "    {\n",
    "        'goodsnm': 'YKK 이지 세미와이드 슬랙스 3Color',\n",
    "        'goodsprc': 46326,\n",
    "        'brand': '언탭트 스튜디오',\n",
    "        'gender': '남',\n",
    "        'season': '2025 ALL'\n",
    "    },\n",
    "]"
   ]
  },
  {
   "cell_type": "markdown",
   "metadata": {},
   "source": [
    "### gemini 모델 테스트"
   ]
  },
  {
   "cell_type": "code",
   "execution_count": 9,
   "metadata": {},
   "outputs": [],
   "source": [
    "import vertexai\n",
    "from vertexai.generative_models import GenerativeModel\n",
    "\n",
    "## Gemini\n",
    "# GCP 프로젝트 ID\n",
    "project_id = os.getenv('project_id')\n",
    "location = os.getenv('location')\n",
    "\n",
    "# Vertex AI multimodal model initialize\n",
    "vertexai.init(project=project_id, location=location)\n",
    "model_gemini = GenerativeModel(\"gemini-1.5-flash-002\")"
   ]
  },
  {
   "cell_type": "code",
   "execution_count": 15,
   "metadata": {},
   "outputs": [],
   "source": [
    "prompt = f\"\"\"\n",
    "목적: 추천결과를 평가하는 역할\n",
    "데이터 형태:  \n",
    "  - query: 검색어\n",
    "  - result: 검색 추천 결과\n",
    "\n",
    "평가 순서\n",
    "1. 검색어와 추천 결과의 연관성 분류\n",
    "  - 연관성은 0과 10 사이의 값으로 구분한다.\n",
    "  - 높을수록 연관성이 높다.\n",
    "2. 연관성 분류 이유 설명\n",
    "\n",
    "형식은 json 포맷으로 해줘.\n",
    "\n",
    "query: {test_query},\n",
    "\n",
    "result: {recommend_resuts}\n",
    "\"\"\""
   ]
  },
  {
   "cell_type": "code",
   "execution_count": 16,
   "metadata": {},
   "outputs": [],
   "source": [
    "responses = model_gemini.generate_content(\n",
    "    prompt,\n",
    "    generation_config={\n",
    "        \"temperature\": 0.2,\n",
    "        \"top_p\": 0.9,\n",
    "    }\n",
    ")"
   ]
  },
  {
   "cell_type": "code",
   "execution_count": 17,
   "metadata": {},
   "outputs": [
    {
     "name": "stdout",
     "output_type": "stream",
     "text": [
      "```json\n",
      "{\n",
      "  \"query\": \"검은색 정장\",\n",
      "  \"results\": [\n",
      "    {\n",
      "      \"id\": \"886f41b94a9076a1f38b0ec6990b68dc\",\n",
      "      \"goodsnm\": \"까르피)프라다 울 정장 수트\",\n",
      "      \"price\": 3263000,\n",
      "      \"relevance\": \"관련 있음\"\n",
      "    },\n",
      "    {\n",
      "      \"id\": \"fae0d858462ad9d7631be8ca4c4c71ce\",\n",
      "      \"title_en\": \"울 테일러드 싱글 원버튼 재킷 (BLACK)\",\n",
      "      \"price\": 932000,\n",
      "      \"relevance\": \"관련 있음\"\n",
      "    },\n",
      "    {\n",
      "      \"id\": \"a829226d971f7d4a1840c44fcd6eaf79\",\n",
      "      \"title_en\": \"프라다 울 정장 수트\",\n",
      "      \"price\": 5415000,\n",
      "      \"relevance\": \"관련 있음\"\n",
      "    },\n",
      "    {\n",
      "      \"id\": \"45dc91ce7fa8d5c9b794710f1a082667\",\n",
      "      \"title_en\": \"클래식 더블 버튼 재킷 (BLACK)\",\n",
      "      \"price\": 442000,\n",
      "      \"relevance\": \"관련 있음\"\n",
      "    }\n",
      "  ]\n",
      "}\n",
      "```\n",
      "\n"
     ]
    }
   ],
   "source": [
    "print(responses.text)"
   ]
  },
  {
   "cell_type": "code",
   "execution_count": null,
   "metadata": {},
   "outputs": [],
   "source": []
  }
 ],
 "metadata": {
  "kernelspec": {
   "display_name": "project",
   "language": "python",
   "name": "python3"
  },
  "language_info": {
   "codemirror_mode": {
    "name": "ipython",
    "version": 3
   },
   "file_extension": ".py",
   "mimetype": "text/x-python",
   "name": "python",
   "nbconvert_exporter": "python",
   "pygments_lexer": "ipython3",
   "version": "3.11.0"
  }
 },
 "nbformat": 4,
 "nbformat_minor": 2
}
