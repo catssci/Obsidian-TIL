{
 "cells": [
  {
   "cell_type": "code",
   "execution_count": 1,
   "metadata": {},
   "outputs": [],
   "source": [
    "## https://github.com/unclecode/crawl4ai"
   ]
  },
  {
   "cell_type": "code",
   "execution_count": 7,
   "metadata": {},
   "outputs": [],
   "source": [
    "import asyncio\n",
    "from crawl4ai import AsyncWebCrawler"
   ]
  },
  {
   "cell_type": "code",
   "execution_count": 8,
   "metadata": {},
   "outputs": [
    {
     "ename": "NameError",
     "evalue": "name 'crawler' is not defined",
     "output_type": "error",
     "traceback": [
      "\u001b[0;31m---------------------------------------------------------------------------\u001b[0m",
      "\u001b[0;31mNameError\u001b[0m                                 Traceback (most recent call last)",
      "Cell \u001b[0;32mIn[8], line 1\u001b[0m\n\u001b[0;32m----> 1\u001b[0m result \u001b[38;5;241m=\u001b[39m \u001b[38;5;28;01mawait\u001b[39;00m \u001b[43mcrawler\u001b[49m\u001b[38;5;241m.\u001b[39marun(url\u001b[38;5;241m=\u001b[39m\u001b[38;5;124m\"\u001b[39m\u001b[38;5;124mhttps://www.thenorthfacekorea.co.kr\u001b[39m\u001b[38;5;124m\"\u001b[39m)\n\u001b[1;32m      3\u001b[0m \u001b[38;5;66;03m# Different content formats\u001b[39;00m\n\u001b[1;32m      4\u001b[0m \u001b[38;5;28mprint\u001b[39m(result\u001b[38;5;241m.\u001b[39mhtml)         \u001b[38;5;66;03m# Raw HTML\u001b[39;00m\n",
      "\u001b[0;31mNameError\u001b[0m: name 'crawler' is not defined"
     ]
    }
   ],
   "source": [
    "result = await crawler.arun(url=\"https://www.thenorthfacekorea.co.kr\")\n",
    "\n",
    "# Different content formats\n",
    "print(result.html)         # Raw HTML\n",
    "print(result.cleaned_html) # Cleaned HTML\n",
    "print(result.markdown)     # Markdown version\n",
    "print(result.fit_markdown) # Most relevant content in markdown\n",
    "\n",
    "# Check success status\n",
    "print(result.success)      # True if crawl succeeded\n",
    "print(result.status_code)  # HTTP status code (e.g., 200, 404)\n",
    "\n",
    "# Access extracted media and links\n",
    "print(result.media)        # Dictionary of found media (images, videos, audio)\n",
    "print(result.links)        # Dictionary of internal and external links"
   ]
  },
  {
   "cell_type": "code",
   "execution_count": null,
   "metadata": {},
   "outputs": [],
   "source": []
  }
 ],
 "metadata": {
  "kernelspec": {
   "display_name": "project",
   "language": "python",
   "name": "python3"
  },
  "language_info": {
   "codemirror_mode": {
    "name": "ipython",
    "version": 3
   },
   "file_extension": ".py",
   "mimetype": "text/x-python",
   "name": "python",
   "nbconvert_exporter": "python",
   "pygments_lexer": "ipython3",
   "version": "3.11.0"
  }
 },
 "nbformat": 4,
 "nbformat_minor": 2
}
